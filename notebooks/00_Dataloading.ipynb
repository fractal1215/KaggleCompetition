{
 "cells": [
  {
   "cell_type": "markdown",
   "id": "c617ba29",
   "metadata": {},
   "source": [
    "# Setup"
   ]
  },
  {
   "cell_type": "code",
   "execution_count": null,
   "id": "259ef62b",
   "metadata": {},
   "outputs": [],
   "source": [
    "import matplotlib.pyplot as plt\n",
    "# Note: don't import `axes` directly — that can shadow the variable name used for subplot axes\n",
    "from pathlib import Path\n",
    "import numpy as np\n",
    "import pandas as pd\n",
    "import seaborn as sns\n",
    "import sys\n",
    "import sklearn\n",
    "import xgboost as xgb"
   ]
  },
  {
   "cell_type": "code",
   "execution_count": 11,
   "id": "93ee62a2",
   "metadata": {},
   "outputs": [],
   "source": [
    "# Set global plot styles\n",
    "plt.rc('font', size=12)\n",
    "plt.rc('axes', labelsize=14, titlesize=14)\n",
    "plt.rc('legend', fontsize=12)\n",
    "plt.rc('xtick', labelsize=10)\n",
    "plt.rc('ytick', labelsize=10)"
   ]
  },
  {
   "cell_type": "markdown",
   "id": "fac19c3a",
   "metadata": {},
   "source": [
    "## This the dataloading part of the notebook"
   ]
  },
  {
   "cell_type": "code",
   "execution_count": 12,
   "id": "f9e5b981",
   "metadata": {},
   "outputs": [],
   "source": [
    "# Define the data path\n",
    "DATA_PATH = Path(\"/Users/nikola/Python/KaggleCompetition/data\")\n",
    "\n",
    "# Load the new house transactions data\n",
    "new_house_df = pd.read_csv(DATA_PATH / \"train\" / \"new_house_transactions.csv\")"
   ]
  },
  {
   "cell_type": "code",
   "execution_count": null,
   "id": "bafc9a7b",
   "metadata": {},
   "outputs": [
    {
     "name": "stdout",
     "output_type": "stream",
     "text": [
      "\n",
      "Memory usage:\n",
      "Index                                             132\n",
      "month                                          309681\n",
      "sector                                         314579\n",
      "num_new_house_transactions                      43464\n",
      "area_new_house_transactions                     43464\n",
      "price_new_house_transactions                    43464\n",
      "amount_new_house_transactions                   43464\n",
      "area_per_unit_new_house_transactions            43464\n",
      "total_price_per_unit_new_house_transactions     43464\n",
      "num_new_house_available_for_sale                43464\n",
      "area_new_house_available_for_sale               43464\n",
      "period_new_house_sell_through                   43464\n",
      "dtype: int64\n",
      "\n",
      "Duplicate month-sector pairs: 0\n"
     ]
    },
    {
     "ename": "TypeError",
     "evalue": "'function' object is not subscriptable",
     "output_type": "error",
     "traceback": [
      "\u001b[31m---------------------------------------------------------------------------\u001b[39m",
      "\u001b[31mTypeError\u001b[39m                                 Traceback (most recent call last)",
      "\u001b[36mCell\u001b[39m\u001b[36m \u001b[39m\u001b[32mIn[15]\u001b[39m\u001b[32m, line 15\u001b[39m\n\u001b[32m      9\u001b[39m \u001b[38;5;66;03m# Aggregate by month\u001b[39;00m\n\u001b[32m     10\u001b[39m monthly_stats = new_house_df.groupby(\u001b[33m'\u001b[39m\u001b[33mmonth\u001b[39m\u001b[33m'\u001b[39m).agg({\n\u001b[32m     11\u001b[39m     \u001b[33m'\u001b[39m\u001b[33mnum_new_house_transactions\u001b[39m\u001b[33m'\u001b[39m: \u001b[33m'\u001b[39m\u001b[33msum\u001b[39m\u001b[33m'\u001b[39m,\n\u001b[32m     12\u001b[39m     \u001b[33m'\u001b[39m\u001b[33mprice_new_house_transactions\u001b[39m\u001b[33m'\u001b[39m: \u001b[33m'\u001b[39m\u001b[33mmean\u001b[39m\u001b[33m'\u001b[39m\n\u001b[32m     13\u001b[39m })\n\u001b[32m---> \u001b[39m\u001b[32m15\u001b[39m \u001b[43maxes\u001b[49m\u001b[43m[\u001b[49m\u001b[32;43m0\u001b[39;49m\u001b[43m]\u001b[49m.plot(monthly_stats.index, monthly_stats[\u001b[33m'\u001b[39m\u001b[33mnum_new_house_transactions\u001b[39m\u001b[33m'\u001b[39m])\n\u001b[32m     16\u001b[39m axes[\u001b[32m0\u001b[39m].set_title(\u001b[33m'\u001b[39m\u001b[33mTotal New House Transactions Over Time\u001b[39m\u001b[33m'\u001b[39m)\n\u001b[32m     17\u001b[39m axes[\u001b[32m0\u001b[39m].set_xlabel(\u001b[33m'\u001b[39m\u001b[33mMonth\u001b[39m\u001b[33m'\u001b[39m)\n",
      "\u001b[31mTypeError\u001b[39m: 'function' object is not subscriptable"
     ]
    }
   ],
   "source": [
    "# Memory usage\n",
    "print(f\"\\nMemory usage:\\n{new_house_df.memory_usage(deep=True)}\")\n",
    "\n",
    "# Check for duplicates\n",
    "duplicates = new_house_df.duplicated(subset=['month', 'sector']).sum()\n",
    "print(f\"\\nDuplicate month-sector pairs: {duplicates}\")\n",
    "\n",
    "\n",
    "# Aggregate by month\n",
    "monthly_stats = new_house_df.groupby('month').agg({\n",
    "    'num_new_house_transactions': 'sum',\n",
    "    'price_new_house_transactions': 'mean'\n",
    "})\n",
    "# Create subplots so `axes[0]` and `axes[1]` exist\n",
    "fig, axes = plt.subplots(1, 2, figsize=(14, 5))\n",
    "\n",
    "axes[0].plot(monthly_stats.index, monthly_stats['num_new_house_transactions'])\n",
    "axes[0].set_title('Total New House Transactions Over Time')\n",
    "axes[0].set_xlabel('Month')\n",
    "axes[0].set_ylabel('Number of Transactions')\n",
    "\n",
    "axes[1].plot(monthly_stats.index, monthly_stats['price_new_house_transactions'])\n",
    "axes[1].set_title('Average Price per Square Meter Over Time')\n",
    "axes[1].set_xlabel('Month')\n",
    "axes[1].set_ylabel('Price (yuan/sqm)')\n",
    "\n",
    "plt.tight_layout()\n",
    "plt.show()"
   ]
  },
  {
   "cell_type": "markdown",
   "id": "dedf751f",
   "metadata": {},
   "source": [
    "## Setting the output paths and folders and creating standardized output"
   ]
  },
  {
   "cell_type": "code",
   "execution_count": null,
   "id": "21ddb32a",
   "metadata": {},
   "outputs": [],
   "source": [
    "# Defining the output paths\n",
    "OUTPUT_PATH = Path(\"/Users/nikola/Python/KaggleCompetition/output\")\n",
    "IMAGES_PATH = OUTPUT_PATH / \"images\"\n",
    "SUBMISSION_PATH = OUTPUT_PATH / \"submissions\"\n",
    "\n",
    "# Create directories if they don't exist\n",
    "OUTPUT_PATH.mkdir(parents=True, exist_ok=True)\n",
    "IMAGES_PATH.mkdir(parents=True, exist_ok=True)\n",
    "SUBMISSION_PATH.mkdir(parents=True, exist_ok=True)\n",
    "\n",
    "def save_fig(fig_id, tight_layout=True, fig_extension=\"png\", resolution=300):\n",
    "    \"\"\"Save a matplotlib figure to the images folder\"\"\"\n",
    "    path = IMAGES_PATH / f\"{fig_id}.{fig_extension}\"\n",
    "    if tight_layout:\n",
    "        plt.tight_layout()\n",
    "    plt.savefig(path, format=fig_extension, dpi=resolution)\n",
    "    print(f\"Figure saved: {path}\")\n",
    "\n",
    "def save_submission(df, name=\"submission\"):\n",
    "    \"\"\"Save a DataFrame as CSV for Kaggle submission\"\"\"\n",
    "    from datetime import datetime\n",
    "    timestamp = datetime.now().strftime(\"%Y%m%d_%H%M%S\")\n",
    "    filename = f\"{name}_{timestamp}.csv\"\n",
    "    path = SUBMISSION_PATH / filename\n",
    "    df.to_csv(path, index=False)\n",
    "    print(f\"Submission saved: {path}\")\n",
    "    return path"
   ]
  },
  {
   "cell_type": "markdown",
   "id": "8e2cadaa",
   "metadata": {},
   "source": [
    "# This is where the fun begins"
   ]
  },
  {
   "cell_type": "markdown",
   "id": "c4df55af",
   "metadata": {},
   "source": []
  }
 ],
 "metadata": {
  "kernelspec": {
   "display_name": "kagglecompetition",
   "language": "python",
   "name": "python3"
  },
  "language_info": {
   "codemirror_mode": {
    "name": "ipython",
    "version": 3
   },
   "file_extension": ".py",
   "mimetype": "text/x-python",
   "name": "python",
   "nbconvert_exporter": "python",
   "pygments_lexer": "ipython3",
   "version": "3.13.5"
  }
 },
 "nbformat": 4,
 "nbformat_minor": 5
}
