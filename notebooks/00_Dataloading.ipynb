{
 "cells": [
  {
   "cell_type": "markdown",
   "id": "fac19c3a",
   "metadata": {},
   "source": [
    "## This the dataloading part of the notebook"
   ]
  },
  {
   "cell_type": "code",
   "execution_count": null,
   "id": "259ef62b",
   "metadata": {},
   "outputs": [],
   "source": [
    "import matplotlib.pyplot as plt\n",
    "from pathlib import Path\n",
    "import numpy as np\n",
    "import pandas as pd\n",
    "import seaborn as sns\n",
    "import sys"
   ]
  },
  {
   "cell_type": "code",
   "execution_count": null,
   "id": "93ee62a2",
   "metadata": {},
   "outputs": [],
   "source": [
    "# Set global plot styles\n",
    "plt.rc('font', size=12)\n",
    "plt.rc('axes', labelsize=14, titlesize=14)\n",
    "plt.rc('legend', fontsize=12)\n",
    "plt.rc('xtick', labelsize=10)\n",
    "plt.rc('ytick', labelsize=10)"
   ]
  },
  {
   "cell_type": "code",
   "execution_count": null,
   "id": "21ddb32a",
   "metadata": {},
   "outputs": [],
   "source": [
    "# Defining the output paths\n",
    "OUTPUT_PATH = Path(\"/Users/nikola/Python/KaggleCompetition/output\")\n",
    "IMAGES_PATH = OUTPUT_PATH / \"images\"\n",
    "SUBMISSION_PATH = OUTPUT_PATH / \"submissions\"\n",
    "\n",
    "# Create directories if they don't exist\n",
    "OUTPUT_PATH.mkdir(parents=True, exist_ok=True)\n",
    "IMAGES_PATH.mkdir(parents=True, exist_ok=True)\n",
    "SUBMISSION_PATH.mkdir(parents=True, exist_ok=True)\n",
    "\n",
    "def save_fig(fig_id, tight_layout=True, fig_extension=\"png\", resolution=300):\n",
    "    \"\"\"Save a matplotlib figure to the images folder\"\"\"\n",
    "    path = IMAGES_PATH / f\"{fig_id}.{fig_extension}\"\n",
    "    if tight_layout:\n",
    "        plt.tight_layout()\n",
    "    plt.savefig(path, format=fig_extension, dpi=resolution)\n",
    "    print(f\"Figure saved: {path}\")\n",
    "\n",
    "def save_submission(df, name=\"submission\"):\n",
    "    \"\"\"Save a DataFrame as CSV for Kaggle submission\"\"\"\n",
    "    from datetime import datetime\n",
    "    timestamp = datetime.now().strftime(\"%Y%m%d_%H%M%S\")\n",
    "    filename = f\"{name}_{timestamp}.csv\"\n",
    "    path = SUBMISSION_PATH / filename\n",
    "    df.to_csv(path, index=False)\n",
    "    print(f\"Submission saved: {path}\")\n",
    "    return path"
   ]
  }
 ],
 "metadata": {
  "kernelspec": {
   "display_name": "kagglecompetition",
   "language": "python",
   "name": "python3"
  },
  "language_info": {
   "name": "python",
   "version": "3.13.5"
  }
 },
 "nbformat": 4,
 "nbformat_minor": 5
}
