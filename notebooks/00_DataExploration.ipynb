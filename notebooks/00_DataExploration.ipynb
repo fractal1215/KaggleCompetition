{
 "cells": [
  {
   "cell_type": "markdown",
   "id": "052ea73e",
   "metadata": {},
   "source": [
    "# Explanation:"
   ]
  },
  {
   "cell_type": "markdown",
   "id": "1f1508fe",
   "metadata": {},
   "source": [
    "This is the dataexploration notebook"
   ]
  },
  {
   "cell_type": "markdown",
   "id": "c617ba29",
   "metadata": {},
   "source": [
    "# Setup"
   ]
  },
  {
   "cell_type": "markdown",
   "id": "42c024c0",
   "metadata": {},
   "source": [
    "## Dependencies and plotting style"
   ]
  },
  {
   "cell_type": "code",
   "execution_count": 1,
   "id": "259ef62b",
   "metadata": {},
   "outputs": [],
   "source": [
    "import matplotlib.pyplot as plt\n",
    "import numpy as np\n",
    "import pandas as pd\n",
    "import seaborn as sns\n",
    "import sys\n",
    "import sklearn\n",
    "import xgboost as xgb\n",
    "\n",
    "from sklearn.metrics import mean_squared_error, mean_absolute_error\n",
    "from pathlib import Path"
   ]
  },
  {
   "cell_type": "code",
   "execution_count": 2,
   "id": "93ee62a2",
   "metadata": {},
   "outputs": [],
   "source": [
    "# Set global plot styles\n",
    "plt.rc('font', size=12)\n",
    "plt.rc('axes', labelsize=14, titlesize=14)\n",
    "plt.rc('legend', fontsize=12)\n",
    "plt.rc('xtick', labelsize=10)\n",
    "plt.rc('ytick', labelsize=10)"
   ]
  },
  {
   "cell_type": "markdown",
   "id": "fac19c3a",
   "metadata": {},
   "source": [
    "## Dataloading part of the notebook"
   ]
  },
  {
   "cell_type": "code",
   "execution_count": 3,
   "id": "f9e5b981",
   "metadata": {},
   "outputs": [],
   "source": [
    "# Define the data path\n",
    "DATA_PATH = Path(\"/Users/nikola/Python/KaggleCompetition/data\")\n",
    "\n",
    "# Load the new house transactions data\n",
    "new_house_df = pd.read_csv(DATA_PATH / \"train\" / \"new_house_transactions.csv\")"
   ]
  },
  {
   "cell_type": "markdown",
   "id": "08a081be",
   "metadata": {},
   "source": [
    "setting year as index"
   ]
  },
  {
   "cell_type": "code",
   "execution_count": 4,
   "id": "b555f28c",
   "metadata": {},
   "outputs": [],
   "source": [
    "# Convert to datetime\n",
    "new_house_df['month'] = pd.to_datetime(new_house_df['month'], format='%Y-%b')\n",
    "\n",
    "# Set year as index\n",
    "new_house_df.index = new_house_df['month'].dt.year\n",
    "new_house_df.index.name = 'year'\n",
    "\n",
    "# # Keep only month name in the column\n",
    "# new_house_df['month'] = new_house_df['month'].dt.strftime('%b')"
   ]
  },
  {
   "cell_type": "markdown",
   "id": "604b8713",
   "metadata": {},
   "source": [
    "# EXPLORATORY DATA ANALYSIS - Understanding the data\n",
    "Scatterplot to see the distribution of the target variable = amount_new_house_transaction"
   ]
  },
  {
   "cell_type": "markdown",
   "id": "26edadc4",
   "metadata": {},
   "source": [
    "## 1.1 Target Variable Analysis"
   ]
  },
  {
   "cell_type": "code",
   "execution_count": 6,
   "id": "24afdcb5",
   "metadata": {},
   "outputs": [
    {
     "ename": "NameError",
     "evalue": "name 'new_house' is not defined",
     "output_type": "error",
     "traceback": [
      "\u001b[31m---------------------------------------------------------------------------\u001b[39m",
      "\u001b[31mNameError\u001b[39m                                 Traceback (most recent call last)",
      "\u001b[36mCell\u001b[39m\u001b[36m \u001b[39m\u001b[32mIn[6]\u001b[39m\u001b[32m, line 5\u001b[39m\n\u001b[32m      2\u001b[39m fig, axes = plt.subplots(\u001b[32m1\u001b[39m, \u001b[32m3\u001b[39m, figsize=(\u001b[32m15\u001b[39m, \u001b[32m4\u001b[39m))\n\u001b[32m      4\u001b[39m \u001b[38;5;66;03m# Distribution\u001b[39;00m\n\u001b[32m----> \u001b[39m\u001b[32m5\u001b[39m axes[\u001b[32m0\u001b[39m].hist(\u001b[43mnew_house\u001b[49m[\u001b[33m'\u001b[39m\u001b[33mamount_new_house_transactions\u001b[39m\u001b[33m'\u001b[39m].dropna(), bins=\u001b[32m50\u001b[39m, edgecolor=\u001b[33m'\u001b[39m\u001b[33mblack\u001b[39m\u001b[33m'\u001b[39m)\n\u001b[32m      6\u001b[39m axes[\u001b[32m0\u001b[39m].set_xlabel(\u001b[33m'\u001b[39m\u001b[33mAmount (10,000 yuan)\u001b[39m\u001b[33m'\u001b[39m)\n\u001b[32m      7\u001b[39m axes[\u001b[32m0\u001b[39m].set_ylabel(\u001b[33m'\u001b[39m\u001b[33mFrequency\u001b[39m\u001b[33m'\u001b[39m)\n",
      "\u001b[31mNameError\u001b[39m: name 'new_house' is not defined"
     ]
    },
    {
     "data": {
      "image/png": "[encoded data removed]",
      "text/plain": [
       "<Figure size 1500x400 with 3 Axes>"
      ]
     },
     "metadata": {},
     "output_type": "display_data"
    }
   ],
   "source": [
    "# Target distribution\n",
    "fig, axes = plt.subplots(1, 3, figsize=(15, 4))\n",
    "\n",
    "# Distribution\n",
    "axes[0].hist(new_house['amount_new_house_transactions'].dropna(), bins=50, edgecolor='black')\n",
    "axes[0].set_xlabel('Amount (10,000 yuan)')\n",
    "axes[0].set_ylabel('Frequency')\n",
    "axes[0].set_title('Target Distribution')\n",
    "\n",
    "# Log-transformed distribution\n",
    "amount_log = np.log1p(new_house['amount_new_house_transactions'].dropna())\n",
    "axes[1].hist(amount_log, bins=50, edgecolor='black')\n",
    "axes[1].set_xlabel('Log(Amount + 1)')\n",
    "axes[1].set_ylabel('Frequency')\n",
    "axes[1].set_title('Log-Transformed Target Distribution')\n",
    "\n",
    "# Boxplot for outliers\n",
    "axes[2].boxplot(new_house['amount_new_house_transactions'].dropna())\n",
    "axes[2].set_ylabel('Amount (10,000 yuan)')\n",
    "axes[2].set_title('Target Outliers')\n",
    "\n",
    "plt.tight_layout()\n",
    "plt.show()\n",
    "\n",
    "# Target statistics\n",
    "print(\"Target Variable Statistics:\")\n",
    "print(new_house['amount_new_house_transactions'].describe())\n",
    "print(f\"\\nMissing values: {new_house['amount_new_house_transactions'].isnull().sum()} ({new_house['amount_new_house_transactions'].isnull().sum()/len(new_house)*100:.2f}%)\")\n",
    "print(f\"Zeros: {(new_house['amount_new_house_transactions'] == 0).sum()}\")\n",
    "print(f\"Skewness: {new_house['amount_new_house_transactions'].skew():.2f}\")"
   ]
  },
  {
   "cell_type": "markdown",
   "id": "7ea01108",
   "metadata": {},
   "source": [
    "## 1.2 Temporal Patterns"
   ]
  },
  {
   "cell_type": "code",
   "execution_count": null,
   "id": "2a8d2c5c",
   "metadata": {},
   "outputs": [],
   "source": [
    "# Aggregate by month\n",
    "monthly_stats = new_house.groupby('month').agg({\n",
    "    'amount_new_house_transactions': ['sum', 'mean', 'median'],\n",
    "    'sector': 'count'\n",
    "}).round(2)\n",
    "\n",
    "fig, axes = plt.subplots(2, 2, figsize=(15, 8))\n",
    "\n",
    "# Total amount over time\n",
    "axes[0,0].plot(monthly_stats.index, monthly_stats['amount_new_house_transactions']['sum'])\n",
    "axes[0,0].set_xlabel('Month')\n",
    "axes[0,0].set_ylabel('Total Amount (10,000 yuan)')\n",
    "axes[0,0].set_title('Total Transaction Amount Over Time')\n",
    "axes[0,0].grid(True, alpha=0.3)\n",
    "\n",
    "# Average amount over time\n",
    "axes[0,1].plot(monthly_stats.index, monthly_stats['amount_new_house_transactions']['mean'])\n",
    "axes[0,1].set_xlabel('Month')\n",
    "axes[0,1].set_ylabel('Mean Amount (10,000 yuan)')\n",
    "axes[0,1].set_title('Average Transaction Amount Over Time')\n",
    "axes[0,1].grid(True, alpha=0.3)\n",
    "\n",
    "# Number of sectors with transactions\n",
    "axes[1,0].plot(monthly_stats.index, monthly_stats['sector']['count'])\n",
    "axes[1,0].set_xlabel('Month')\n",
    "axes[1,0].set_ylabel('Number of Sectors')\n",
    "axes[1,0].set_title('Active Sectors Over Time')\n",
    "axes[1,0].grid(True, alpha=0.3)\n",
    "\n",
    "# Seasonal pattern\n",
    "new_house['month_num'] = new_house['month'].dt.month\n",
    "monthly_pattern = new_house.groupby('month_num')['amount_new_house_transactions'].mean()\n",
    "axes[1,1].bar(monthly_pattern.index, monthly_pattern.values)\n",
    "axes[1,1].set_xlabel('Month of Year')\n",
    "axes[1,1].set_ylabel('Average Amount')\n",
    "axes[1,1].set_title('Seasonal Pattern')\n",
    "axes[1,1].set_xticks(range(1, 13))\n",
    "\n",
    "plt.tight_layout()\n",
    "plt.show()"
   ]
  },
  {
   "cell_type": "markdown",
   "id": "7f9aa51b",
   "metadata": {},
   "source": [
    "## 1.3 Sector Analysis"
   ]
  },
  {
   "cell_type": "code",
   "execution_count": null,
   "id": "f73badd9",
   "metadata": {},
   "outputs": [],
   "source": [
    "# Top sectors by total transaction amount\n",
    "sector_stats = new_house.groupby('sector').agg({\n",
    "    'amount_new_house_transactions': ['sum', 'mean', 'count']\n",
    "}).round(2)\n",
    "sector_stats.columns = ['total_amount', 'avg_amount', 'num_months']\n",
    "sector_stats = sector_stats.sort_values('total_amount', ascending=False)\n",
    "\n",
    "fig, axes = plt.subplots(1, 2, figsize=(15, 5))\n",
    "\n",
    "# Top 20 sectors by total amount\n",
    "top_20_sectors = sector_stats.head(20)\n",
    "axes[0].barh(range(20), top_20_sectors['total_amount'].values)\n",
    "axes[0].set_yticks(range(20))\n",
    "axes[0].set_yticklabels(top_20_sectors.index, fontsize=8)\n",
    "axes[0].set_xlabel('Total Amount (10,000 yuan)')\n",
    "axes[0].set_title('Top 20 Sectors by Total Transaction Amount')\n",
    "axes[0].invert_yaxis()\n",
    "\n",
    "# Distribution of sectors by activity\n",
    "axes[1].hist(sector_stats['num_months'], bins=30, edgecolor='black')\n",
    "axes[1].set_xlabel('Number of Active Months')\n",
    "axes[1].set_ylabel('Number of Sectors')\n",
    "axes[1].set_title('Sector Activity Distribution')\n",
    "\n",
    "plt.tight_layout()\n",
    "plt.show()\n",
    "\n",
    "print(f\"Total sectors: {new_house['sector'].nunique()}\")\n",
    "print(f\"Sectors with consistent activity (>90% months): {(sector_stats['num_months'] > sector_stats['num_months'].max()*0.9).sum()}\")\n",
    "print(f\"Sectors with sparse activity (<10% months): {(sector_stats['num_months'] < sector_stats['num_months'].max()*0.1).sum()}\")\n",
    "\n"
   ]
  },
  {
   "cell_type": "markdown",
   "id": "b4aae063",
   "metadata": {},
   "source": [
    "## 1.4 Correlation Analysis"
   ]
  },
  {
   "cell_type": "code",
   "execution_count": null,
   "id": "6d6da7c7",
   "metadata": {},
   "outputs": [],
   "source": [
    "# Correlation between numerical features in new_house\n",
    "numeric_cols = new_house.select_dtypes(include=[np.number]).columns\n",
    "numeric_cols = [col for col in numeric_cols if col != 'amount_new_house_transactions']\n",
    "\n",
    "if len(numeric_cols) > 0:\n",
    "    correlations = new_house[numeric_cols + ['amount_new_house_transactions']].corr()['amount_new_house_transactions'].sort_values(ascending=False)\n",
    "    \n",
    "    plt.figure(figsize=(10, 6))\n",
    "    correlations[1:].plot(kind='barh')\n",
    "    plt.xlabel('Correlation with Target')\n",
    "    plt.title('Feature Correlations with Target Variable')\n",
    "    plt.grid(True, alpha=0.3)\n",
    "    plt.show()\n",
    "    \n",
    "    print(\"Top correlations with target:\")\n",
    "    print(correlations[1:6])"
   ]
  },
  {
   "cell_type": "markdown",
   "id": "6f3f2cc6",
   "metadata": {},
   "source": [
    "## 1.5 Missing Values Analysis"
   ]
  },
  {
   "cell_type": "code",
   "execution_count": null,
   "id": "89978ec6",
   "metadata": {},
   "outputs": [],
   "source": [
    "print(\"=\"*60)\n",
    "print(\"MISSING VALUES ANALYSIS\")\n",
    "print(\"=\"*60)\n",
    "\n",
    "# For each dataset, show missing values per column\n",
    "for name, df in datasets.items():\n",
    "    print(f\"\\n{name.upper()}:\")\n",
    "    print(\"-\"*40)\n",
    "    \n",
    "    for col in df.columns:\n",
    "        missing_count = df[col].isnull().sum()\n",
    "        missing_pct = missing_count / len(df) * 100\n",
    "        if missing_count > 0:\n",
    "            print(f\"{col}: {missing_count} ({missing_pct:.2f}%)\")\n",
    "    \n",
    "    # If no missing values in dataset\n",
    "    if df.isnull().sum().sum() == 0:\n",
    "        print(\"No missing values\")"
   ]
  }
 ],
 "metadata": {
  "kernelspec": {
   "display_name": "kagglecompetition",
   "language": "python",
   "name": "python3"
  },
  "language_info": {
   "codemirror_mode": {
    "name": "ipython",
    "version": 3
   },
   "file_extension": ".py",
   "mimetype": "text/x-python",
   "name": "python",
   "nbconvert_exporter": "python",
   "pygments_lexer": "ipython3",
   "version": "3.13.5"
  }
 },
 "nbformat": 4,
 "nbformat_minor": 5
}
