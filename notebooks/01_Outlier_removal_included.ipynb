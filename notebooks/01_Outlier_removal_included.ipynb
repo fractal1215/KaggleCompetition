{
 "cells": [
  {
   "cell_type": "markdown",
   "id": "052ea73e",
   "metadata": {},
   "source": [
    "# Explanation:"
   ]
  },
  {
   "cell_type": "markdown",
   "id": "1f1508fe",
   "metadata": {},
   "source": [
    "The target variable is: \n",
    "\n",
    "amount_new_house_transactions: The total monetary value of new house transactions in 10,000 yuan.\n",
    "\n",
    "We are using some of the features found in the different csv's to predict the final amount\n",
    "The method used is XGBoost with cross validation"
   ]
  },
  {
   "cell_type": "markdown",
   "id": "c617ba29",
   "metadata": {},
   "source": [
    "# Setup"
   ]
  },
  {
   "cell_type": "markdown",
   "id": "42c024c0",
   "metadata": {},
   "source": [
    "## Dependencies and plotting style"
   ]
  },
  {
   "cell_type": "code",
   "execution_count": 1,
   "id": "259ef62b",
   "metadata": {},
   "outputs": [],
   "source": [
    "import matplotlib.pyplot as plt\n",
    "import numpy as np\n",
    "import pandas as pd\n",
    "import seaborn as sns\n",
    "import sys\n",
    "import sklearn\n",
    "import xgboost as xgb\n",
    "\n",
    "from sklearn.metrics import mean_squared_error, mean_absolute_error\n",
    "from pathlib import Path"
   ]
  },
  {
   "cell_type": "code",
   "execution_count": 2,
   "id": "93ee62a2",
   "metadata": {},
   "outputs": [],
   "source": [
    "# Set global plot styles\n",
    "plt.rc('font', size=12)\n",
    "plt.rc('axes', labelsize=14, titlesize=14)\n",
    "plt.rc('legend', fontsize=12)\n",
    "plt.rc('xtick', labelsize=10)\n",
    "plt.rc('ytick', labelsize=10)"
   ]
  },
  {
   "cell_type": "markdown",
   "id": "fac19c3a",
   "metadata": {},
   "source": [
    "## Dataloading part of the notebook"
   ]
  },
  {
   "cell_type": "code",
   "execution_count": 3,
   "id": "f9e5b981",
   "metadata": {},
   "outputs": [],
   "source": [
    "# Define the data path\n",
    "DATA_PATH = Path(\"/Users/nikola/Python/KaggleCompetition/data\")\n",
    "\n",
    "# Load the new house transactions data\n",
    "new_house_df = pd.read_csv(DATA_PATH / \"train\" / \"new_house_transactions.csv\")"
   ]
  },
  {
   "cell_type": "markdown",
   "id": "08a081be",
   "metadata": {},
   "source": [
    "setting year as index"
   ]
  },
  {
   "cell_type": "code",
   "execution_count": 4,
   "id": "b555f28c",
   "metadata": {},
   "outputs": [],
   "source": [
    "# Convert to datetime\n",
    "new_house_df['month'] = pd.to_datetime(new_house_df['month'], format='%Y-%b')\n",
    "\n",
    "# Set year as index\n",
    "new_house_df.index = new_house_df['month'].dt.year\n",
    "new_house_df.index.name = 'year'\n",
    "\n",
    "# # Keep only month name in the column\n",
    "# new_house_df['month'] = new_house_df['month'].dt.strftime('%b')"
   ]
  },
  {
   "cell_type": "markdown",
   "id": "dedf751f",
   "metadata": {},
   "source": [
    "## Setting the output paths and folders and creating standardized output"
   ]
  },
  {
   "cell_type": "code",
   "execution_count": null,
   "id": "21ddb32a",
   "metadata": {},
   "outputs": [],
   "source": [
    "# # Defining the output paths\n",
    "# OUTPUT_PATH = Path(\"/Users/nikola/Python/KaggleCompetition/output\")\n",
    "# IMAGES_PATH = OUTPUT_PATH / \"images\"\n",
    "# SUBMISSION_PATH = OUTPUT_PATH / \"submissions\"\n",
    "\n",
    "# # Create directories if they don't exist\n",
    "# OUTPUT_PATH.mkdir(parents=True, exist_ok=True)\n",
    "# IMAGES_PATH.mkdir(parents=True, exist_ok=True)\n",
    "# SUBMISSION_PATH.mkdir(parents=True, exist_ok=True)\n",
    "\n",
    "# def save_fig(fig_id, tight_layout=True, fig_extension=\"png\", resolution=300):\n",
    "#     \"\"\"Save a matplotlib figure to the images folder\"\"\"\n",
    "#     path = IMAGES_PATH / f\"{fig_id}.{fig_extension}\"\n",
    "#     if tight_layout:\n",
    "#         plt.tight_layout()\n",
    "#     plt.savefig(path, format=fig_extension, dpi=resolution)\n",
    "#     print(f\"Figure saved: {path}\")\n",
    "\n",
    "# def save_submission(df, name=\"submission\"):\n",
    "#     \"\"\"Save a DataFrame as CSV for Kaggle submission\"\"\"\n",
    "#     from datetime import datetime\n",
    "#     timestamp = datetime.now().strftime(\"%Y%m%d_%H%M%S\")\n",
    "#     filename = f\"{name}_{timestamp}.csv\"\n",
    "#     path = SUBMISSION_PATH / filename\n",
    "#     df.to_csv(path, index=False)\n",
    "#     print(f\"Submission saved: {path}\")\n",
    "#     return path"
   ]
  },
  {
   "cell_type": "markdown",
   "id": "37a148fe",
   "metadata": {},
   "source": [
    "# Outliers Removal"
   ]
  },
  {
   "cell_type": "code",
   "execution_count": 7,
   "id": "0d07af75",
   "metadata": {},
   "outputs": [
    {
     "name": "stdout",
     "output_type": "stream",
     "text": [
      "count      5433.000000\n",
      "mean      32587.559558\n",
      "std       49047.627905\n",
      "min          50.950000\n",
      "25%        5200.170000\n",
      "50%       16040.320000\n",
      "75%       38499.900000\n",
      "max      606407.640000\n",
      "Name: amount_new_house_transactions, dtype: float64\n"
     ]
    }
   ],
   "source": [
    "# Check the distribution statistics\n",
    "print(new_house_df['amount_new_house_transactions'].describe())\n",
    "\n",
    "# Calculate IQR (Interquartile Range) method\n",
    "Q1 = new_house_df['amount_new_house_transactions'].quantile(0.25)\n",
    "Q3 = new_house_df['amount_new_house_transactions'].quantile(0.75)\n",
    "IQR = Q3 - Q1\n",
    "upper_bound = Q3 + 1.5 * IQR\n",
    "\n",
    "# Filter out outliers\n",
    "new_house_df_filtered = new_house_df[new_house_df['amount_new_house_transactions'] <= upper_bound]"
   ]
  },
  {
   "cell_type": "code",
   "execution_count": 8,
   "id": "423aae88",
   "metadata": {},
   "outputs": [
    {
     "name": "stdout",
     "output_type": "stream",
     "text": [
      "count     4950.000000\n",
      "mean     20600.372590\n",
      "std      20658.401116\n",
      "min         50.950000\n",
      "25%       4511.440000\n",
      "50%      13561.205000\n",
      "75%      30264.960000\n",
      "max      88404.640000\n",
      "Name: amount_new_house_transactions, dtype: float64\n"
     ]
    }
   ],
   "source": [
    "print(new_house_df_filtered['amount_new_house_transactions'].describe())"
   ]
  },
  {
   "cell_type": "markdown",
   "id": "8e2cadaa",
   "metadata": {},
   "source": [
    "# This is where the fun begins"
   ]
  },
  {
   "cell_type": "markdown",
   "id": "1a3c6908",
   "metadata": {},
   "source": []
  },
  {
   "cell_type": "markdown",
   "id": "c4df55af",
   "metadata": {},
   "source": []
  },
  {
   "cell_type": "markdown",
   "id": "bbd8b020",
   "metadata": {},
   "source": [
    "# Error Metrics"
   ]
  },
  {
   "cell_type": "code",
   "execution_count": null,
   "id": "95808c47",
   "metadata": {},
   "outputs": [],
   "source": [
    "mean_squared_error(y_true=pjme_test['PJME_MW'],\n",
    "                   y_pred=pjme_test_fcst['yhat'])"
   ]
  },
  {
   "cell_type": "code",
   "execution_count": null,
   "id": "23b65060",
   "metadata": {},
   "outputs": [],
   "source": [
    "mean_absolute_error(y_true=pjme_test['PJME_MW'],\n",
    "                   y_pred=pjme_test_fcst['yhat'])"
   ]
  },
  {
   "cell_type": "code",
   "execution_count": null,
   "id": "1780e672",
   "metadata": {},
   "outputs": [],
   "source": [
    "def mean_absolute_percentage_error(y_true, y_pred): \n",
    "    \"\"\"Calculates MAPE given y_true and y_pred\"\"\"\n",
    "    y_true, y_pred = np.array(y_true), np.array(y_pred)\n",
    "    return np.mean(np.abs((y_true - y_pred) / y_true)) * 100\n",
    "\n",
    "mean_absolute_percentage_error(y_true=pjme_test['PJME_MW'],\n",
    "                   y_pred=pjme_test_fcst['yhat'])"
   ]
  }
 ],
 "metadata": {
  "kernelspec": {
   "display_name": "kagglecompetition",
   "language": "python",
   "name": "python3"
  },
  "language_info": {
   "codemirror_mode": {
    "name": "ipython",
    "version": 3
   },
   "file_extension": ".py",
   "mimetype": "text/x-python",
   "name": "python",
   "nbconvert_exporter": "python",
   "pygments_lexer": "ipython3",
   "version": "3.13.5"
  }
 },
 "nbformat": 4,
 "nbformat_minor": 5
}
